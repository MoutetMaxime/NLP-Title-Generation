{
  "cells": [
    {
      "cell_type": "markdown",
      "metadata": {
        "id": "Rtn4ZyDDJL3W"
      },
      "source": [
        "$$\\textbf{Title generation using Deep Learning}$$"
      ]
    },
    {
      "cell_type": "code",
      "execution_count": 1,
      "metadata": {
        "id": "5IHxTOySJL3Y"
      },
      "outputs": [],
      "source": [
        "import pandas as pd\n",
        "import torch\n",
        "import sklearn\n",
        "import nltk\n",
        "import numpy as np\n",
        "import string"
      ]
    },
    {
      "cell_type": "markdown",
      "source": [
        "## Imports"
      ],
      "metadata": {
        "id": "YEFnMkMBC7WK"
      }
    },
    {
      "cell_type": "code",
      "execution_count": 2,
      "metadata": {
        "id": "1RITyJZIJL3Y"
      },
      "outputs": [],
      "source": [
        "import torch.nn as nn"
      ]
    },
    {
      "cell_type": "markdown",
      "metadata": {
        "id": "mcYhxaWJJL3Z"
      },
      "source": [
        "Keras imports to use a tokenizer"
      ]
    },
    {
      "cell_type": "code",
      "execution_count": 3,
      "metadata": {
        "id": "G0zZ2saMJL3Z"
      },
      "outputs": [],
      "source": [
        "import tensorflow as tf\n",
        "from tensorflow.keras.preprocessing.text import Tokenizer"
      ]
    },
    {
      "cell_type": "markdown",
      "source": [
        "Linking with google drive to access the data"
      ],
      "metadata": {
        "id": "MnXEXcqLChWW"
      }
    },
    {
      "cell_type": "code",
      "source": [
        "from google.colab import drive\n",
        "drive.mount('/content/drive')"
      ],
      "metadata": {
        "colab": {
          "base_uri": "https://localhost:8080/"
        },
        "id": "3gWX0wtyLIHQ",
        "outputId": "546a60cc-fc0d-4d55-e19c-17f32fecc311"
      },
      "execution_count": 4,
      "outputs": [
        {
          "output_type": "stream",
          "name": "stdout",
          "text": [
            "Mounted at /content/drive\n"
          ]
        }
      ]
    },
    {
      "cell_type": "code",
      "source": [
        "train = pd.read_csv('/content/drive/MyDrive/NLP/data/train.csv')\n",
        "validation = pd.read_csv('/content/drive/MyDrive/NLP/data/validation.csv')\n",
        "test = pd.read_csv('/content/drive/MyDrive/NLP/data/test_text.csv')"
      ],
      "metadata": {
        "id": "OTelUh11MjIN"
      },
      "execution_count": 5,
      "outputs": []
    },
    {
      "cell_type": "markdown",
      "metadata": {
        "id": "s4iSP6gvJL3Z"
      },
      "source": [
        "# $\\textbf{Clean and tokenize the data}$"
      ]
    },
    {
      "cell_type": "markdown",
      "metadata": {
        "id": "QOAvPkEcJL3a"
      },
      "source": [
        "## Clean the data with stopwords removal"
      ]
    },
    {
      "cell_type": "code",
      "source": [
        "!pip install stopwords"
      ],
      "metadata": {
        "id": "wke2c6KUNN45",
        "colab": {
          "base_uri": "https://localhost:8080/"
        },
        "outputId": "43e509cc-6ed7-4c67-8e52-d1749a1b077f"
      },
      "execution_count": 6,
      "outputs": [
        {
          "output_type": "stream",
          "name": "stdout",
          "text": [
            "Collecting stopwords\n",
            "  Downloading stopwords-1.0.1-py2.py3-none-any.whl (37 kB)\n",
            "Installing collected packages: stopwords\n",
            "Successfully installed stopwords-1.0.1\n"
          ]
        }
      ]
    },
    {
      "cell_type": "code",
      "source": [
        "import nltk\n",
        "nltk.download('stopwords')"
      ],
      "metadata": {
        "id": "4whrC6K4NdhY",
        "colab": {
          "base_uri": "https://localhost:8080/"
        },
        "outputId": "d89b56b6-cbfc-434a-f1f4-416fab933048"
      },
      "execution_count": 7,
      "outputs": [
        {
          "output_type": "stream",
          "name": "stderr",
          "text": [
            "[nltk_data] Downloading package stopwords to /root/nltk_data...\n",
            "[nltk_data]   Unzipping corpora/stopwords.zip.\n"
          ]
        },
        {
          "output_type": "execute_result",
          "data": {
            "text/plain": [
              "True"
            ]
          },
          "metadata": {},
          "execution_count": 7
        }
      ]
    },
    {
      "cell_type": "code",
      "execution_count": 8,
      "metadata": {
        "id": "Zddq_wJYJL3a"
      },
      "outputs": [],
      "source": [
        "from nltk.corpus import stopwords\n",
        "\n",
        "def preprocess_text(text):\n",
        "    text = text.lower()\n",
        "    text = text.translate(str.maketrans('', '', string.punctuation))\n",
        "    stop_words = set(stopwords.words('french'))\n",
        "    tokens = text.split()\n",
        "    filtered_text = [word for word in tokens if word.lower() not in stop_words]\n",
        "    return ' '.join(filtered_text)\n",
        "\n",
        "def preprocess_title(text):\n",
        "    text = text.lower()\n",
        "    text = text.translate(str.maketrans('', '', string.punctuation))\n",
        "    stop_words = set(stopwords.words('french'))\n",
        "    tokens = text.split()\n",
        "    filtered_text = [word for word in tokens if word.lower() not in stop_words]\n",
        "    return ' '.join(filtered_text)\n",
        "\n",
        "validation_df = validation.copy()\n",
        "train_df = train.copy()\n",
        "test_df = test.copy()\n",
        "\n",
        "# Preprocess the text\n",
        "validation_df['text'],  validation_df['titles'] = validation_df['text'].apply(preprocess_text), validation_df['titles'].apply(preprocess_title)\n",
        "train_df['text'],  train_df['titles'] = train_df['text'].apply(preprocess_text), train_df['titles'].apply(preprocess_title)\n",
        "test_df['text'] = test_df['text'].apply(preprocess_text)"
      ]
    },
    {
      "cell_type": "markdown",
      "source": [
        "## Construction of the vocabulary"
      ],
      "metadata": {
        "id": "pkd2u8MyCx5d"
      }
    },
    {
      "cell_type": "code",
      "source": [
        "from collections import Counter\n",
        "\n",
        "words = [word for text in train_df['text'] for word in text.split()]\n",
        "word_counts = Counter(words)\n",
        "\n",
        "\n",
        "most_common_words = word_counts.most_common(10000)\n",
        "\n",
        "\n",
        "vocab = {word: idx + 1 for idx, (word, _) in enumerate(most_common_words)}\n",
        "vocab['<UNK>'] = 0\n",
        "vocab['<PAD>'] = len(vocab)\n",
        "vocab[\"<START>\"] = len(vocab)\n",
        "vocab[\"<END>\"] = len(vocab)\n"
      ],
      "metadata": {
        "id": "IpIsdZzoVATM"
      },
      "execution_count": 9,
      "outputs": []
    },
    {
      "cell_type": "code",
      "execution_count": 10,
      "metadata": {
        "id": "MhIqkPpPJL3a"
      },
      "outputs": [],
      "source": [
        "word2idx = vocab\n",
        "idx2word = {k:v for (v, k)  in word2idx.items()}"
      ]
    },
    {
      "cell_type": "markdown",
      "metadata": {
        "id": "GfScI_bAJL3a"
      },
      "source": [
        "## Length visualization"
      ]
    },
    {
      "cell_type": "code",
      "execution_count": null,
      "metadata": {
        "id": "Qy8k0gViJL3a",
        "colab": {
          "base_uri": "https://localhost:8080/",
          "height": 452
        },
        "outputId": "34edb402-8358-403b-93ff-b0109de99039"
      },
      "outputs": [
        {
          "output_type": "display_data",
          "data": {
            "text/plain": [
              "<Figure size 640x480 with 2 Axes>"
            ],
            "image/png": "[encoded data removed]"
          },
          "metadata": {}
        }
      ],
      "source": [
        "import matplotlib.pyplot as plt\n",
        "train_text_word_count = []\n",
        "train_titles_word_count = []\n",
        "\n",
        "for i in train_df['text']:\n",
        "      train_text_word_count.append(len(i.split()))\n",
        "\n",
        "for i in train_df['titles']:\n",
        "      train_titles_word_count.append(len(i.split()))\n",
        "\n",
        "length_df = pd.DataFrame({'text':train_text_word_count, 'titles':train_titles_word_count})\n",
        "length_df.hist(bins = 30)\n",
        "plt.show()"
      ]
    },
    {
      "cell_type": "code",
      "execution_count": null,
      "metadata": {
        "id": "ZS75t9OWJL3b"
      },
      "outputs": [],
      "source": [
        "max_len_text = 300\n",
        "max_len_titles  = 60"
      ]
    },
    {
      "cell_type": "markdown",
      "metadata": {
        "id": "TP6cM4zDJL3b"
      },
      "source": [
        "# $\\textbf{Model}$"
      ]
    },
    {
      "cell_type": "markdown",
      "metadata": {
        "id": "ditndg0vJL3b"
      },
      "source": [
        "## DataLoader creation"
      ]
    },
    {
      "cell_type": "code",
      "execution_count": 11,
      "metadata": {
        "id": "TcQTEL0ZJL3b"
      },
      "outputs": [],
      "source": [
        "device = torch.device(\"cuda\")\n",
        "#device = torch.device(\"cpu\")"
      ]
    },
    {
      "cell_type": "code",
      "execution_count": 12,
      "metadata": {
        "id": "6yv5hH2OJL3b"
      },
      "outputs": [],
      "source": [
        "from torch.utils.data import Dataset, DataLoader\n",
        "\n",
        "PAD_IDX = word2idx['<PAD>']\n",
        "vocab_size = len(word2idx)\n",
        "\n",
        "\n",
        "class TextTitleDataset(Dataset):\n",
        "    def __init__(self, dataframe, vocab):\n",
        "        self.dataframe = dataframe\n",
        "        self.vocab = vocab\n",
        "        self.start_token = word2idx['<START>']\n",
        "        self.end_token = word2idx['<END>']\n",
        "\n",
        "    def __len__(self):\n",
        "        return len(self.dataframe)\n",
        "\n",
        "    def __getitem__(self, idx):\n",
        "        text_tokens = self.tokenize(self.dataframe.iloc[idx]['text'])\n",
        "        title_tokens = [self.start_token] + self.tokenize(self.dataframe.iloc[idx]['titles']) + [self.end_token]\n",
        "\n",
        "        return torch.tensor(text_tokens, dtype=torch.long), torch.tensor(title_tokens, dtype=torch.long)\n",
        "\n",
        "    def tokenize(self, sentence):\n",
        "        return [self.vocab.get(word, self.vocab['<UNK>']) for word in sentence.split()]\n",
        "\n",
        "\n",
        "\n",
        "class TestDataset(Dataset):\n",
        "    def __init__(self, dataframe, vocab):\n",
        "        self.dataframe = dataframe\n",
        "        self.vocab = vocab\n",
        "\n",
        "    def __len__(self):\n",
        "        return len(self.dataframe)\n",
        "\n",
        "    def __getitem__(self, idx):\n",
        "        text = self.tokenize(self.dataframe.iloc[idx]['text'])\n",
        "        return torch.tensor(text, dtype=torch.long)\n",
        "\n",
        "    def tokenize(self, sentence):\n",
        "        return [self.vocab.get(word, self.vocab['<UNK>']) for word in sentence.split()]"
      ]
    },
    {
      "cell_type": "markdown",
      "source": [
        "We can now create the properly tokenized datasets."
      ],
      "metadata": {
        "id": "l9W01ZvB_4WM"
      }
    },
    {
      "cell_type": "code",
      "source": [
        "train_dataset = TextTitleDataset(train_df, word2idx)\n",
        "validation_dataset = TextTitleDataset(validation_df, word2idx)\n",
        "test_dataset = TestDataset(test_df, word2idx)"
      ],
      "metadata": {
        "id": "NdxEYTtY_3sh"
      },
      "execution_count": 13,
      "outputs": []
    },
    {
      "cell_type": "markdown",
      "source": [
        "We will now create the different dataloaders"
      ],
      "metadata": {
        "id": "WaHVCid7APKP"
      }
    },
    {
      "cell_type": "code",
      "execution_count": 14,
      "metadata": {
        "id": "oDpoxgcuJL3b"
      },
      "outputs": [],
      "source": [
        "from torch.nn.utils.rnn import pad_sequence"
      ]
    },
    {
      "cell_type": "code",
      "execution_count": 15,
      "metadata": {
        "id": "doiau1fiJL3b"
      },
      "outputs": [],
      "source": [
        "def train_collate_fn(batch):\n",
        "    texts, titles = zip(*batch)\n",
        "    texts_pad = pad_sequence(texts, batch_first=True, padding_value=PAD_IDX)\n",
        "    titles_pad = pad_sequence(titles, batch_first=True, padding_value=PAD_IDX)\n",
        "    return texts_pad, titles_pad\n",
        "\n",
        "def test_collate_fn(batch):\n",
        "    texts = [item for item in batch]\n",
        "    texts_pad = pad_sequence(texts, batch_first=True, padding_value=PAD_IDX)\n",
        "    return texts_pad"
      ]
    },
    {
      "cell_type": "code",
      "execution_count": 20,
      "metadata": {
        "id": "09yiXJ3KJL3b"
      },
      "outputs": [],
      "source": [
        "def create_trainloader(dataset, batch_size = 128):\n",
        "    train_loader = DataLoader(dataset, batch_size=batch_size, shuffle=True, collate_fn = train_collate_fn)\n",
        "    return train_loader\n",
        "\n",
        "def create_testloader(dataset, batch_size = 128):\n",
        "    test_loader = DataLoader(dataset, batch_size=batch_size, shuffle=False, collate_fn = test_collate_fn)\n",
        "    return test_loader"
      ]
    },
    {
      "cell_type": "code",
      "execution_count": 21,
      "metadata": {
        "id": "vwzGjmbtJL3b"
      },
      "outputs": [],
      "source": [
        "train_loader = create_trainloader(train_dataset)\n",
        "validation_loader = create_trainloader(validation_dataset)\n",
        "test_loader = create_testloader(test_dataset)"
      ]
    },
    {
      "cell_type": "markdown",
      "metadata": {
        "id": "iRPv9oKNJL3b"
      },
      "source": [
        "## Layers"
      ]
    },
    {
      "cell_type": "markdown",
      "metadata": {
        "id": "g9-fBrs1JL3b"
      },
      "source": [
        "### Attention"
      ]
    },
    {
      "cell_type": "code",
      "source": [
        "import torch.nn.functional as F"
      ],
      "metadata": {
        "id": "Iep1U2ZH3bY8"
      },
      "execution_count": 22,
      "outputs": []
    },
    {
      "cell_type": "code",
      "execution_count": 23,
      "metadata": {
        "id": "pyGIm55-JL3c"
      },
      "outputs": [],
      "source": [
        "class Attention(nn.Module):\n",
        "    def __init__(self, enc_hid_dim, dec_hid_dim):\n",
        "        super().__init__()\n",
        "        self.attn = nn.Linear((enc_hid_dim + dec_hid_dim), dec_hid_dim)\n",
        "        self.v = nn.Linear(dec_hid_dim, 1, bias=False)\n",
        "\n",
        "    def forward(self, hidden, encoder_outputs):\n",
        "        batch_size = encoder_outputs.shape[0]\n",
        "        src_len = encoder_outputs.shape[1]\n",
        "        hidden = hidden.squeeze(0)\n",
        "        hidden = hidden.unsqueeze(1)\n",
        "        hidden = hidden.repeat(1, src_len, 1)\n",
        "        energy = torch.tanh(self.attn(torch.cat((hidden, encoder_outputs), dim=2)))\n",
        "        attention = self.v(energy).squeeze(2)\n",
        "\n",
        "        return F.softmax(attention, dim=1)\n"
      ]
    },
    {
      "cell_type": "markdown",
      "metadata": {
        "id": "u_eYujSkJL3c"
      },
      "source": [
        "### Encoder"
      ]
    },
    {
      "cell_type": "code",
      "execution_count": 24,
      "metadata": {
        "id": "1o2wYqt2JL3c"
      },
      "outputs": [],
      "source": [
        "class Encoder(nn.Module):\n",
        "    def __init__(self, input_dim, emb_dim, enc_hid_dim):\n",
        "        super().__init__()\n",
        "        self.embedding = nn.Embedding(input_dim, emb_dim)\n",
        "        self.rnn1 = nn.LSTM(emb_dim, enc_hid_dim, batch_first=True)\n",
        "        self.rnn3 = nn.LSTM(enc_hid_dim, enc_hid_dim, batch_first=True)\n",
        "\n",
        "    def forward(self, src):\n",
        "        embedded = self.embedding(src)\n",
        "        output, (hidden, cell) = self.rnn1(embedded)\n",
        "        output, (hidden, cell) = self.rnn3(output)\n",
        "        return output, hidden, cell"
      ]
    },
    {
      "cell_type": "markdown",
      "metadata": {
        "id": "MYZEhQGXJL3c"
      },
      "source": [
        "### Decoder"
      ]
    },
    {
      "cell_type": "code",
      "execution_count": 25,
      "metadata": {
        "id": "9za_91CRJL3c"
      },
      "outputs": [],
      "source": [
        "class Decoder(nn.Module):\n",
        "    def __init__(self, output_dim, emb_dim, enc_hid_dim, dec_hid_dim, attention):\n",
        "        super().__init__()\n",
        "        self.output_dim = output_dim\n",
        "        self.attention = attention\n",
        "        self.embedding = nn.Embedding(output_dim, emb_dim)\n",
        "        self.rnn = nn.LSTM((enc_hid_dim + emb_dim), dec_hid_dim, batch_first=True)\n",
        "        self.fc_out = nn.Linear(enc_hid_dim + dec_hid_dim + emb_dim, output_dim)\n",
        "\n",
        "    def forward(self, input, hidden, cell, encoder_outputs):\n",
        "        input = input.unsqueeze(1)\n",
        "        embedded = self.embedding(input)\n",
        "        attn_weights = self.attention(hidden, encoder_outputs)\n",
        "        attn_weights = attn_weights.unsqueeze(1)\n",
        "        weighted = torch.bmm(attn_weights, encoder_outputs)\n",
        "\n",
        "        rnn_input = torch.cat((embedded, weighted), dim=2)\n",
        "        output, (hidden, cell) = self.rnn(rnn_input, (hidden, cell))\n",
        "\n",
        "        embedded = embedded.squeeze(1)\n",
        "        output = output.squeeze(1)\n",
        "        weighted = weighted.squeeze(1)\n",
        "\n",
        "        prediction = self.fc_out(torch.cat((output, weighted, embedded), dim=1))\n",
        "\n",
        "        return prediction, hidden, cell\n"
      ]
    },
    {
      "cell_type": "markdown",
      "metadata": {
        "id": "OUHBrVoYJL3c"
      },
      "source": [
        "### Seq2Seq model"
      ]
    },
    {
      "cell_type": "code",
      "execution_count": 26,
      "metadata": {
        "id": "vqnDLVOsJL3c"
      },
      "outputs": [],
      "source": [
        "class Seq2Seq(nn.Module):\n",
        "    def __init__(self, encoder, decoder, device):\n",
        "        super().__init__()\n",
        "        self.encoder = encoder\n",
        "        self.decoder = decoder\n",
        "        self.device = device\n",
        "\n",
        "    def forward(self, src, trg):\n",
        "        encoder_outputs, hidden, cell = self.encoder(src)\n",
        "        trg_len = trg.shape[1]\n",
        "        batch_size = trg.shape[0]\n",
        "        outputs = torch.zeros(batch_size, trg_len, self.decoder.output_dim).to(self.device)\n",
        "\n",
        "        input = trg[:,0]\n",
        "        for t in range(1, trg_len):\n",
        "            output, hidden, cell = self.decoder(input, hidden, cell, encoder_outputs)\n",
        "            outputs[:,t,:] = output\n",
        "            input = output.argmax(1)\n",
        "\n",
        "        return outputs\n",
        "\n",
        "\n",
        "\n",
        "    def generate_title(self, src, max_len=50, start_token_idx=word2idx['<START>'], end_token_idx=word2idx['<END>'], unk_token_idx=word2idx['<UNK>'], a_token_idx=word2idx['a']):\n",
        "        self.encoder.eval()\n",
        "        self.decoder.eval()\n",
        "\n",
        "        with torch.no_grad():\n",
        "            encoder_outputs, hidden, cell = self.encoder(src)\n",
        "            batch_size = src.shape[0]\n",
        "            outputs = torch.zeros(batch_size, max_len, self.decoder.output_dim).to(self.device)\n",
        "\n",
        "            input = torch.LongTensor([start_token_idx] * batch_size).to(self.device)\n",
        "\n",
        "            titles = []\n",
        "            for t in range(1, max_len):\n",
        "                output, hidden, cell = self.decoder(input, hidden, cell, encoder_outputs)\n",
        "                output = output.squeeze(1)\n",
        "                probs, indices = output.topk(k=3, dim=1)  # Get top 3 predictions\n",
        "                predicted = indices[:, 0]\n",
        "\n",
        "                is_unk = predicted == unk_token_idx\n",
        "                predicted[is_unk] = indices[is_unk, 1]\n",
        "\n",
        "                is_a_token = predicted == a_token_idx\n",
        "                predicted[is_a_token] = indices[is_a_token, 2]\n",
        "\n",
        "                titles.append(predicted.cpu().numpy())\n",
        "                input = predicted\n",
        "\n",
        "                if (predicted == end_token_idx).all():\n",
        "                    break\n",
        "\n",
        "            titles = np.array(titles).T  # Shape: (batch_size, seq_len)\n",
        "            return titles\n"
      ]
    },
    {
      "cell_type": "markdown",
      "metadata": {
        "id": "AkREevDTJL3c"
      },
      "source": [
        "## Creation of the model"
      ]
    },
    {
      "cell_type": "code",
      "execution_count": 27,
      "metadata": {
        "id": "W1pbwoXxJL3c"
      },
      "outputs": [],
      "source": [
        "input_dim = vocab_size\n",
        "output_dim = vocab_size\n",
        "emb_dim = 150 #300\n",
        "enc_hid_dim = 250 #500\n",
        "dec_hid_dim = 250 #500\n",
        "\n",
        "attention_mechanism = Attention(enc_hid_dim, dec_hid_dim)\n",
        "\n",
        "encoder = Encoder(input_dim, emb_dim, enc_hid_dim).to(device)\n",
        "decoder = Decoder(output_dim, emb_dim,enc_hid_dim, dec_hid_dim, attention = attention_mechanism).to(device)  # Add attention if needed"
      ]
    },
    {
      "cell_type": "code",
      "execution_count": 28,
      "metadata": {
        "id": "Toz8HyKhJL3c"
      },
      "outputs": [],
      "source": [
        "model = Seq2Seq(encoder, decoder, device)"
      ]
    },
    {
      "cell_type": "code",
      "execution_count": 29,
      "metadata": {
        "colab": {
          "base_uri": "https://localhost:8080/"
        },
        "id": "qaXJmR-zJL3d",
        "outputId": "d270a3f5-8dca-44d4-d442-ed0541beb46c"
      },
      "outputs": [
        {
          "output_type": "execute_result",
          "data": {
            "text/plain": [
              "Seq2Seq(\n",
              "  (encoder): Encoder(\n",
              "    (embedding): Embedding(10004, 150)\n",
              "    (rnn1): LSTM(150, 250, batch_first=True)\n",
              "    (rnn3): LSTM(250, 250, batch_first=True)\n",
              "  )\n",
              "  (decoder): Decoder(\n",
              "    (attention): Attention(\n",
              "      (attn): Linear(in_features=500, out_features=250, bias=True)\n",
              "      (v): Linear(in_features=250, out_features=1, bias=False)\n",
              "    )\n",
              "    (embedding): Embedding(10004, 150)\n",
              "    (rnn): LSTM(400, 250, batch_first=True)\n",
              "    (fc_out): Linear(in_features=650, out_features=10004, bias=True)\n",
              "  )\n",
              ")"
            ]
          },
          "metadata": {},
          "execution_count": 29
        }
      ],
      "source": [
        "model"
      ]
    },
    {
      "cell_type": "markdown",
      "source": [
        "# Training and validate methods"
      ],
      "metadata": {
        "id": "rE9KPaU6Dbfq"
      }
    },
    {
      "cell_type": "code",
      "source": [
        "from torch.cuda.amp import autocast, GradScaler #for an optimized usage of GPU's RAM\n",
        "\n",
        "criterion = nn.CrossEntropyLoss(ignore_index=PAD_IDX)\n",
        "optimizer = torch.optim.Adam(model.parameters())\n",
        "\n",
        "\n",
        "def validate(model, val_loader, criterion):\n",
        "    model.eval()\n",
        "    epoch_loss = 0\n",
        "    with torch.no_grad():\n",
        "\n",
        "        for texts, titles in val_loader:\n",
        "            texts, titles = texts.to(device), titles.to(device)\n",
        "            output = model(texts, titles[:, :-1])\n",
        "            output_dim = output.shape[-1]\n",
        "            output = output.contiguous().view(-1, output_dim)\n",
        "            titles = titles[:, 1:].contiguous().view(-1)\n",
        "            loss = criterion(output, titles)\n",
        "            epoch_loss += loss.item()\n",
        "\n",
        "    return epoch_loss / len(val_loader)\n",
        "\n",
        "\n",
        "def train(model, dataloader, optimizer, criterion, clip, val_loader):\n",
        "    model.train()\n",
        "    epoch_loss = 0\n",
        "    scaler = GradScaler()\n",
        "\n",
        "    val_losses_sum = 0\n",
        "\n",
        "    for texts, titles in dataloader:\n",
        "        model.train()\n",
        "        texts, titles = texts.to(device), titles.to(device)\n",
        "\n",
        "        optimizer.zero_grad()\n",
        "\n",
        "        with autocast():\n",
        "            output = model(texts, titles[:, :-1])\n",
        "            output_dim = output.shape[-1]\n",
        "            output = output.contiguous().view(-1, output_dim)\n",
        "            titles = titles[:, 1:].contiguous().view(-1)\n",
        "            loss = criterion(output, titles)\n",
        "\n",
        "\n",
        "        scaler.scale(loss).backward()\n",
        "\n",
        "\n",
        "        scaler.unscale_(optimizer)\n",
        "        torch.nn.utils.clip_grad_norm_(model.parameters(), clip)\n",
        "        scaler.step(optimizer)\n",
        "        scaler.update()\n",
        "\n",
        "        epoch_loss += loss.item()\n",
        "\n",
        "        val_loss = validate(model, val_loader, criterion)\n",
        "\n",
        "        val_losses_sum += val_loss\n",
        "\n",
        "    average_epoch_loss = epoch_loss / len(dataloader)\n",
        "    average_val_loss = val_losses_sum / len(dataloader)\n",
        "\n",
        "    return average_epoch_loss, average_val_loss\n"
      ],
      "metadata": {
        "id": "vlZzY1rlbUUW"
      },
      "execution_count": 30,
      "outputs": []
    },
    {
      "cell_type": "markdown",
      "source": [
        "## Training of the model"
      ],
      "metadata": {
        "id": "Q79hNM3K5cvn"
      }
    },
    {
      "cell_type": "code",
      "execution_count": null,
      "metadata": {
        "colab": {
          "base_uri": "https://localhost:8080/"
        },
        "id": "rYGag4I4JL3d",
        "outputId": "e223b9b4-2d45-47f9-b53b-4786c8261f67"
      },
      "outputs": [
        {
          "metadata": {
            "tags": null
          },
          "name": "stdout",
          "output_type": "stream",
          "text": [
            "Epoch: 01, Train Loss: 7.354, Val Loss: 7.318\n",
            "Epoch: 02, Train Loss: 7.158, Val Loss: 7.160\n",
            "Epoch: 03, Train Loss: 7.065, Val Loss: 7.093\n",
            "Epoch: 04, Train Loss: 6.971, Val Loss: 7.024\n",
            "Epoch: 05, Train Loss: 6.850, Val Loss: 6.939\n",
            "Epoch: 06, Train Loss: 6.728, Val Loss: 6.875\n",
            "Epoch: 07, Train Loss: 6.618, Val Loss: 6.830\n"
          ]
        }
      ],
      "source": [
        "num_epochs = 11\n",
        "\n",
        "clip = 1\n",
        "\n",
        "train_losses = []\n",
        "val_losses = []\n",
        "\n",
        "for epoch in range(num_epochs):\n",
        "    res = train(model, train_loader, optimizer, criterion, clip, validation_loader)\n",
        "    train_loss = res[0]\n",
        "    val_loss = res[1]\n",
        "    train_losses.append(train_loss)\n",
        "    val_losses.append(val_loss)\n",
        "\n",
        "    print(f'Epoch: {epoch+1:02}, Train Loss: {train_loss:.3f}, Val Loss: {val_loss:.3f}')\n",
        "\n",
        "    save_path = f'/content/drive/MyDrive/NLP/Models/model_epoch{epoch}.pth'\n",
        "    torch.save({\n",
        "    'epoch': epoch,\n",
        "    'model_state_dict': model.state_dict(),\n",
        "    'optimizer_state_dict': optimizer.state_dict(),\n",
        "    'train_loss': train_loss,\n",
        "    'val_loss' : val_loss}, save_path)"
      ]
    },
    {
      "cell_type": "markdown",
      "source": [
        "## Plotting of the loss"
      ],
      "metadata": {
        "id": "78Ip6_yTDlQK"
      }
    },
    {
      "cell_type": "code",
      "source": [
        "import matplotlib.pyplot as plt"
      ],
      "metadata": {
        "id": "0aoXc9spXSVU"
      },
      "execution_count": 31,
      "outputs": []
    },
    {
      "cell_type": "code",
      "source": [
        "plt.figure()\n",
        "plt.plot(train_losses)\n",
        "plt.title(\"Loss on training set\")\n",
        "plt.xlabel(\"Epoch\")\n",
        "plt.ylabel(\"Loss\")\n",
        "plt.show()"
      ],
      "metadata": {
        "id": "bK6c1m7GnI8z"
      },
      "execution_count": null,
      "outputs": []
    },
    {
      "cell_type": "code",
      "source": [
        "plt.figure()\n",
        "plt.plot(val_losses)\n",
        "plt.title(\"Loss on validation set\")\n",
        "plt.xlabel(\"Iteration\")\n",
        "plt.ylabel(\"Loss\")\n",
        "plt.show()"
      ],
      "metadata": {
        "id": "YgJ0KMiZnVy8"
      },
      "execution_count": null,
      "outputs": []
    },
    {
      "cell_type": "markdown",
      "source": [
        "# Title generation for the test dataset"
      ],
      "metadata": {
        "id": "9YuYSLel2tly"
      }
    },
    {
      "cell_type": "code",
      "source": [
        "def detokenize(indices, idx2word):\n",
        "    return ' '.join([idx2word.get(idx, '<UNK>') for idx in indices if idx not in (word2idx['<START>'], word2idx['<END>'], word2idx['<PAD>'])])"
      ],
      "metadata": {
        "id": "dGFu9o-ssxjQ"
      },
      "execution_count": 33,
      "outputs": []
    },
    {
      "cell_type": "code",
      "source": [
        "generated_titles = []\n",
        "\n",
        "model.eval()\n",
        "\n",
        "with torch.no_grad():\n",
        "    for src_batch in test_loader:\n",
        "        src_batch = src_batch.to(device)\n",
        "\n",
        "        for src in src_batch:\n",
        "            src = src.unsqueeze(0)\n",
        "            title_idx_seq = model.generate_title(src, max_len=50)[0]\n",
        "\n",
        "            generated_title = detokenize(title_idx_seq, idx2word)\n",
        "            generated_titles.append(generated_title)\n",
        "\n"
      ],
      "metadata": {
        "id": "ziuWrI7j4CWO"
      },
      "execution_count": null,
      "outputs": []
    },
    {
      "cell_type": "markdown",
      "source": [
        "## Saving the titles"
      ],
      "metadata": {
        "id": "H7R0enW2D0e3"
      }
    },
    {
      "cell_type": "code",
      "source": [
        "df = pd.DataFrame({'titles': generated_titles})"
      ],
      "metadata": {
        "id": "4kBuZsoZ6_fQ"
      },
      "execution_count": null,
      "outputs": []
    },
    {
      "cell_type": "code",
      "source": [
        "file_path = '/content/drive/MyDrive/NLP/data/generated_titles.csv'\n",
        "df.to_csv(file_path, index=False)"
      ],
      "metadata": {
        "id": "Tv8zmGeR57HT"
      },
      "execution_count": null,
      "outputs": []
    },
    {
      "cell_type": "code",
      "source": [
        "gen = pd.read_csv('/content/drive/MyDrive/NLP/data/generated_titles.csv')"
      ],
      "metadata": {
        "id": "FpFIc3qr6mRJ"
      },
      "execution_count": null,
      "outputs": []
    },
    {
      "cell_type": "markdown",
      "source": [
        "# Comparing the models through the epochs"
      ],
      "metadata": {
        "id": "E50XLcQGD-2S"
      }
    },
    {
      "cell_type": "markdown",
      "source": [
        "## The initial model, trained on 1 epoch"
      ],
      "metadata": {
        "id": "90kRcRuZFA1W"
      }
    },
    {
      "cell_type": "code",
      "source": [
        "# Initial model\n",
        "load_path = '/content/drive/MyDrive/NLP/Models/model_epoch{epoch}.pth'.format(epoch=0)\n",
        "\n",
        "# Load the saved state\n",
        "saved_state = torch.load(load_path)\n",
        "\n",
        "model0 = Seq2Seq(encoder, decoder, device)\n",
        "optimizer0 = torch.optim.Adam(model0.parameters())\n",
        "\n",
        "model0.load_state_dict(saved_state['model_state_dict'])\n",
        "optimizer0.load_state_dict(saved_state['optimizer_state_dict'])\n",
        "\n",
        "\n",
        "model0.to(device)"
      ],
      "metadata": {
        "id": "u3itIwKmEnME",
        "colab": {
          "base_uri": "https://localhost:8080/"
        },
        "outputId": "ba0705ed-92f0-4746-b961-21a1ccb95642"
      },
      "execution_count": 34,
      "outputs": [
        {
          "output_type": "execute_result",
          "data": {
            "text/plain": [
              "Seq2Seq(\n",
              "  (encoder): Encoder(\n",
              "    (embedding): Embedding(10004, 150)\n",
              "    (rnn1): LSTM(150, 250, batch_first=True)\n",
              "    (rnn3): LSTM(250, 250, batch_first=True)\n",
              "  )\n",
              "  (decoder): Decoder(\n",
              "    (attention): Attention(\n",
              "      (attn): Linear(in_features=500, out_features=250, bias=True)\n",
              "      (v): Linear(in_features=250, out_features=1, bias=False)\n",
              "    )\n",
              "    (embedding): Embedding(10004, 150)\n",
              "    (rnn): LSTM(400, 250, batch_first=True)\n",
              "    (fc_out): Linear(in_features=650, out_features=10004, bias=True)\n",
              "  )\n",
              ")"
            ]
          },
          "metadata": {},
          "execution_count": 34
        }
      ]
    },
    {
      "cell_type": "code",
      "source": [
        "generated_titles_0 = []\n",
        "\n",
        "model0.eval()\n",
        "\n",
        "with torch.no_grad():\n",
        "    for src_batch in test_loader:\n",
        "        src_batch = src_batch.to(device)\n",
        "\n",
        "        for src in src_batch:\n",
        "            src = src.unsqueeze(0)\n",
        "            title_idx_seq = model0.generate_title(src, max_len=50)[0]\n",
        "\n",
        "            generated_title = detokenize(title_idx_seq, idx2word)\n",
        "            generated_titles_0.append(generated_title)"
      ],
      "metadata": {
        "id": "d_p_mCvZFKJ7"
      },
      "execution_count": 35,
      "outputs": []
    },
    {
      "cell_type": "code",
      "source": [
        "test['titles'] = generated_titles_0\n",
        "file_path = '/content/drive/MyDrive/NLP/data/test0.csv'\n",
        "test.to_csv(file_path)"
      ],
      "metadata": {
        "id": "y8WlwMVqFddG"
      },
      "execution_count": 37,
      "outputs": []
    },
    {
      "cell_type": "markdown",
      "source": [
        "## The final model"
      ],
      "metadata": {
        "id": "D-eh0kn0E-mH"
      }
    },
    {
      "cell_type": "code",
      "source": [
        "# Final model\n",
        "load_path = '/content/drive/MyDrive/NLP/Models/model_epoch{epoch}.pth'.format(epoch=6)\n",
        "\n",
        "# Load the saved state\n",
        "saved_state = torch.load(load_path)\n",
        "\n",
        "model10 = Seq2Seq(encoder, decoder, device)\n",
        "optimizer10 = torch.optim.Adam(model0.parameters())\n",
        "\n",
        "model10.load_state_dict(saved_state['model_state_dict'])\n",
        "optimizer10.load_state_dict(saved_state['optimizer_state_dict'])\n",
        "\n",
        "\n",
        "model10.to(device)"
      ],
      "metadata": {
        "id": "5-sc6LDREzYr",
        "colab": {
          "base_uri": "https://localhost:8080/"
        },
        "outputId": "8ed7ce0e-c7cc-491b-be61-abc6f79065f1"
      },
      "execution_count": 38,
      "outputs": [
        {
          "output_type": "execute_result",
          "data": {
            "text/plain": [
              "Seq2Seq(\n",
              "  (encoder): Encoder(\n",
              "    (embedding): Embedding(10004, 150)\n",
              "    (rnn1): LSTM(150, 250, batch_first=True)\n",
              "    (rnn3): LSTM(250, 250, batch_first=True)\n",
              "  )\n",
              "  (decoder): Decoder(\n",
              "    (attention): Attention(\n",
              "      (attn): Linear(in_features=500, out_features=250, bias=True)\n",
              "      (v): Linear(in_features=250, out_features=1, bias=False)\n",
              "    )\n",
              "    (embedding): Embedding(10004, 150)\n",
              "    (rnn): LSTM(400, 250, batch_first=True)\n",
              "    (fc_out): Linear(in_features=650, out_features=10004, bias=True)\n",
              "  )\n",
              ")"
            ]
          },
          "metadata": {},
          "execution_count": 38
        }
      ]
    },
    {
      "cell_type": "code",
      "source": [
        "generated_titles_0[:10]"
      ],
      "metadata": {
        "colab": {
          "base_uri": "https://localhost:8080/"
        },
        "id": "tDBeBcUSMsUA",
        "outputId": "25001ab5-bb56-4d93-e59b-7ec9c9f8f808"
      },
      "execution_count": 49,
      "outputs": [
        {
          "output_type": "execute_result",
          "data": {
            "text/plain": [
              "['ministre ministre ministre ministre ministre mardi france ministre',\n",
              " 'ministre ans ministre ans ministre mardi france ministre',\n",
              " 'ministre ministre ministre ministre mardi france ministre',\n",
              " 'dun ans plus va plus va plus dun ans plus',\n",
              " 'ministre ministre ministre ministre ministre mardi france ministre',\n",
              " 'dun ans trump ans trump ans plus dun ans plus dun coronavirus dun coronavirus dun coronavirus dun',\n",
              " 'dun ans plus va plus va plus dun ans plus dun dun',\n",
              " 'ministre ministre ministre ministre mardi france ministre',\n",
              " 'france ministre ans ministre mardi france ministre depuis france dune',\n",
              " 'france ans ans plus va plus dun dimanche dun dimanche']"
            ]
          },
          "metadata": {},
          "execution_count": 49
        }
      ]
    },
    {
      "cell_type": "code",
      "source": [
        "generated_titles_10 = []\n",
        "\n",
        "model10.eval()\n",
        "\n",
        "with torch.no_grad():\n",
        "    for src_batch in test_loader:\n",
        "        src_batch = src_batch.to(device)\n",
        "\n",
        "        for src in src_batch:\n",
        "            src = src.unsqueeze(0)\n",
        "            title_idx_seq = model10.generate_title(src, max_len=50)[0]\n",
        "\n",
        "            generated_title = detokenize(title_idx_seq, idx2word)\n",
        "            generated_titles_10.append(generated_title)"
      ],
      "metadata": {
        "id": "-frGTj7uFUCU"
      },
      "execution_count": 39,
      "outputs": []
    },
    {
      "cell_type": "code",
      "source": [
        "generated_titles_10[:10]"
      ],
      "metadata": {
        "colab": {
          "base_uri": "https://localhost:8080/"
        },
        "id": "7pYf23QxMd4h",
        "outputId": "ed366c11-183e-4aca-b477-9260bf24d89b"
      },
      "execution_count": 48,
      "outputs": [
        {
          "output_type": "execute_result",
          "data": {
            "text/plain": [
              "['loi députés nationale mercredi mercredi mercredi mercredi mercredi mercredi',\n",
              " 'ministre chef ministre mardi mercredi mardi mercredi mardi',\n",
              " 'informations ans ans ans ans dune après dune',\n",
              " 'france va plus va plus france va plus france',\n",
              " 'ministre comptes ministre ministre ministre ministre ministre',\n",
              " 'étude apple apple plus plus plus plus plus plus plus plus contenus plus plus',\n",
              " 'dune après violences violences violences paris après contre dune',\n",
              " 'personnes personnes personnes lundi lundi dimanche dune',\n",
              " 'france placés france france france france france france',\n",
              " 'france placés france france france france france france']"
            ]
          },
          "metadata": {},
          "execution_count": 48
        }
      ]
    },
    {
      "cell_type": "code",
      "source": [
        "test['titles'] = generated_titles_10\n",
        "file_path = '/content/drive/MyDrive/NLP/data/test10.csv'\n",
        "test.to_csv(file_path)"
      ],
      "metadata": {
        "id": "9Cp0b8SkF9SF"
      },
      "execution_count": null,
      "outputs": []
    }
  ],
  "metadata": {
    "kernelspec": {
      "display_name": "Python 3",
      "name": "python3"
    },
    "language_info": {
      "codemirror_mode": {
        "name": "ipython",
        "version": 3
      },
      "file_extension": ".py",
      "mimetype": "text/x-python",
      "name": "python",
      "nbconvert_exporter": "python",
      "pygments_lexer": "ipython3",
      "version": "3.9.18"
    },
    "colab": {
      "provenance": [],
      "machine_shape": "hm",
      "collapsed_sections": [
        "GfScI_bAJL3a"
      ],
      "gpuType": "V100"
    },
    "accelerator": "GPU"
  },
  "nbformat": 4,
  "nbformat_minor": 0
}
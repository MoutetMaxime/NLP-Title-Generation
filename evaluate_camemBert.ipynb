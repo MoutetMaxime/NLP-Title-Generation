{
 "cells": [
  {
   "cell_type": "code",
   "execution_count": 34,
   "metadata": {},
   "outputs": [
    {
     "name": "stderr",
     "output_type": "stream",
     "text": [
      "Special tokens have been added in the vocabulary, make sure the associated word embeddings are fine-tuned or trained.\n"
     ]
    }
   ],
   "source": [
    "from transformers import EncoderDecoderModel, CamembertTokenizer\n",
    "\n",
    "# Path where the model and tokenizer were saved\n",
    "model_load_path = \"./my_fine_tuned_model\"\n",
    "tokenizer_load_path = \"./my_fine_tuned_tokenizer\"\n",
    "\n",
    "# Load the tokenizer\n",
    "tokenizer = CamembertTokenizer.from_pretrained(tokenizer_load_path)\n",
    "\n",
    "# Load the fine-tuned model\n",
    "model = EncoderDecoderModel.from_pretrained(model_load_path)\n",
    "\n"
   ]
  },
  {
   "cell_type": "code",
   "execution_count": null,
   "metadata": {},
   "outputs": [],
   "source": [
    "import pandas as pd"
   ]
  },
  {
   "cell_type": "code",
   "execution_count": 7,
   "metadata": {},
   "outputs": [],
   "source": [
    "validation_df = pd.read_csv('data/validation.csv')"
   ]
  },
  {
   "cell_type": "code",
   "execution_count": 8,
   "metadata": {},
   "outputs": [
    {
     "name": "stderr",
     "output_type": "stream",
     "text": [
      "/usr/lib64/python3.9/site-packages/scipy/__init__.py:138: UserWarning: A NumPy version >=1.16.5 and <1.23.0 is required for this version of SciPy (detected version 1.26.4)\n",
      "  warnings.warn(f\"A NumPy version >={np_minversion} and <{np_maxversion} is required for this version of \"\n"
     ]
    }
   ],
   "source": [
    "from rouge_score import rouge_scorer\n",
    "\n",
    "scorer = rouge_scorer.RougeScorer(['rougeL'])"
   ]
  },
  {
   "cell_type": "code",
   "execution_count": 21,
   "metadata": {},
   "outputs": [],
   "source": [
    "from tqdm import tqdm"
   ]
  },
  {
   "cell_type": "code",
   "execution_count": 30,
   "metadata": {},
   "outputs": [],
   "source": [
    "def transformer_summary(text: pd.core.series.Series):\n",
    "    summaries = []\n",
    "    num_lines = len(text)\n",
    "    for idx, row in enumerate(tqdm(text,total=num_lines)):\n",
    "\n",
    "        \n",
    "        input_ids = tokenizer.encode(row, return_tensors=\"pt\", max_length=512, truncation=True)\n",
    "        outputs = model.generate(input_ids)  \n",
    "        predicted_text = tokenizer.decode(outputs[0], skip_special_tokens=True)\n",
    "        summaries.append([idx,predicted_text])\n",
    "    return summaries"
   ]
  },
  {
   "cell_type": "code",
   "execution_count": null,
   "metadata": {},
   "outputs": [],
   "source": [
    "transformer_summaries = transformer_summary(validation_df[\"text\"])"
   ]
  },
  {
   "cell_type": "code",
   "execution_count": null,
   "metadata": {},
   "outputs": [],
   "source": [
    "#Compute Rouge-L score\n",
    "transformer_rouge = []\n",
    "# Calculate the rouge-l score for each of the generated summaries compared to the original titles\n",
    "for idx, title in validation_df['titles'].iteritems():\n",
    "    transformer_rouge.append(scorer.score(transformer_summaries[idx][1], title)['rougeL'][2])\n",
    "    "
   ]
  },
  {
   "cell_type": "code",
   "execution_count": null,
   "metadata": {},
   "outputs": [],
   "source": [
    "avg_rouge_score_transformer = sum(transformer_rouge) / len(transformer_rouge)\n",
    "print(\"Average Rouge-L F-Score with transformer: \", avg_rouge_score_transformer)"
   ]
  },
  {
   "cell_type": "code",
   "execution_count": 31,
   "metadata": {},
   "outputs": [
    {
     "name": "stderr",
     "output_type": "stream",
     "text": [
      "  0%|          | 0/1500 [00:00<?, ?it/s]/users/eleves-a/2021/samuel.gaudin/.local/lib/python3.9/site-packages/transformers/generation/utils.py:1132: UserWarning: Using the model-agnostic default `max_length` (=20) to control the generation length. We recommend setting `max_new_tokens` to control the maximum length of the generation.\n",
      "  warnings.warn(\n",
      "100%|██████████| 1500/1500 [14:44<00:00,  1.70it/s]\n"
     ]
    }
   ],
   "source": [
    "test_df = pd.read_csv('data/test_text.csv')\n",
    "transformer_summaries_test = transformer_summary(test_df[\"text\"])"
   ]
  },
  {
   "cell_type": "code",
   "execution_count": 32,
   "metadata": {},
   "outputs": [],
   "source": [
    "transformer_submission_df = pd.DataFrame(transformer_summaries_test, columns=['ID', 'titles'])\n",
    "transformer_submission_df.to_csv('transformer_submission.csv', index=False)\n"
   ]
  }
 ],
 "metadata": {
  "kernelspec": {
   "display_name": "Python 3",
   "language": "python",
   "name": "python3"
  },
  "language_info": {
   "codemirror_mode": {
    "name": "ipython",
    "version": 3
   },
   "file_extension": ".py",
   "mimetype": "text/x-python",
   "name": "python",
   "nbconvert_exporter": "python",
   "pygments_lexer": "ipython3",
   "version": "3.9.18"
  }
 },
 "nbformat": 4,
 "nbformat_minor": 2
}
